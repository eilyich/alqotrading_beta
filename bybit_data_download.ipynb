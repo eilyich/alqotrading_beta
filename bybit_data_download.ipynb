{
 "cells": [
  {
   "cell_type": "code",
   "execution_count": 1,
   "metadata": {},
   "outputs": [],
   "source": [
    "from pybit.unified_trading import HTTP\n",
    "\n",
    "import dotenv\n",
    "import os\n",
    "\n",
    "from time import sleep, time\n",
    "import datetime as dt\n",
    "\n",
    "import pandas as pd\n",
    "\n",
    "import tqdm\n",
    "\n",
    "dotenv.load_dotenv('secrets.env')\n",
    "\n",
    "API_KEY = os.getenv('API')\n",
    "SECRET_KEY = os.getenv('SECRET')\n",
    "\n",
    "session = HTTP(\n",
    "    testnet=False,\n",
    "    api_key=API_KEY,\n",
    "    api_secret=SECRET_KEY,\n",
    ")"
   ]
  },
  {
   "cell_type": "code",
   "execution_count": 2,
   "metadata": {},
   "outputs": [
    {
     "data": {
      "text/plain": [
       "'2022-01-01 00:00:00'"
      ]
     },
     "execution_count": 2,
     "metadata": {},
     "output_type": "execute_result"
    }
   ],
   "source": [
    "base = int(dt.datetime(2022, 1, 1, 0, 00, 00, 000000).timestamp() * 1000)\n",
    "dt.datetime.fromtimestamp(base / 1000).strftime('%Y-%m-%d %H:%M:%S')"
   ]
  },
  {
   "cell_type": "code",
   "execution_count": 14,
   "metadata": {},
   "outputs": [
    {
     "data": {
      "text/plain": [
       "1440"
      ]
     },
     "execution_count": 14,
     "metadata": {},
     "output_type": "execute_result"
    }
   ],
   "source": [
    "60 * 24"
   ]
  },
  {
   "cell_type": "code",
   "execution_count": 15,
   "metadata": {},
   "outputs": [
    {
     "name": "stderr",
     "output_type": "stream",
     "text": [
      "100%|██████████| 3/3 [00:01<00:00,  2.62it/s]"
     ]
    },
    {
     "name": "stdout",
     "output_type": "stream",
     "text": [
      "Done in 1 seconds.\n"
     ]
    },
    {
     "name": "stderr",
     "output_type": "stream",
     "text": [
      "\n"
     ]
    }
   ],
   "source": [
    "def get_kline(interval, days_forward=365, start_year=2022, symbol='BTCUSD'):\n",
    "    t1 = time()\n",
    "\n",
    "    data = []\n",
    "    # Начало отсчёта: 1 января start_year\n",
    "    base = int(dt.datetime(start_year, 1, 1, 0, 0, 0, 0).timestamp() * 1000)\n",
    "\n",
    "    # Определяем количество \"кадров\" (баров), которое безопасно получать за один запрос.\n",
    "    safe_frames = 720  # для 1-минутного интервала – 720 баров (12 часов)\n",
    "    # Вычисляем длительность одного кадра (в мс) исходя из переданного интервала (в минутах)\n",
    "    frame_duration_ms = interval * 60 * 1000\n",
    "    # Вычисляем общее окно запроса в мс, пропорционально интервалу\n",
    "    window_ms = frame_duration_ms * safe_frames\n",
    "\n",
    "    # Общий период выборки в миллисекундах: days_forward дней\n",
    "    total_ms = (60 * 1000) * (60 * 24 * days_forward)\n",
    "\n",
    "    if interval == 1440:\n",
    "        interval = 'D'\n",
    "\n",
    "    for i in tqdm.tqdm(range(base, base + total_ms, window_ms)):\n",
    "        returns = session.get_kline(\n",
    "            symbol=symbol,\n",
    "            interval=interval,\n",
    "            start=i,\n",
    "            end=(i + window_ms) - 1,  # конец окна запроса\n",
    "            limit=1000\n",
    "        )\n",
    "        \n",
    "        data.extend(returns['result']['list'])\n",
    "\n",
    "        # sleep(1)  # можно включить задержку, если API требует ограничения по запросам\n",
    "\n",
    "    output_df = pd.DataFrame(data, columns=['timestamp', 'open', 'high', 'low', 'close', 'volume', 'turnover'])\n",
    "\n",
    "    # Преобразуем столбцы в числовой формат\n",
    "    for col in output_df.columns:\n",
    "        try:\n",
    "            output_df[col] = output_df[col].astype(int)\n",
    "        except ValueError:\n",
    "            output_df[col] = output_df[col].astype(float)\n",
    "\n",
    "    # Преобразуем метки времени в удобный формат\n",
    "    output_df['timestamp'] = output_df['timestamp'].apply(\n",
    "        lambda x: dt.datetime.fromtimestamp(x / 1000).strftime('%Y-%m-%d %H:%M:%S')\n",
    "    )\n",
    "    output_df['timestamp'] = pd.to_datetime(output_df['timestamp'])\n",
    "    output_df.sort_values(by='timestamp', inplace=True)\n",
    "\n",
    "    print(f'Done in {int(time() - t1)} seconds.')\n",
    "    return output_df\n",
    "\n",
    "\n",
    "# df = get_kline(1)\n",
    "df = get_kline(interval=1440, days_forward=(365*4))\n"
   ]
  },
  {
   "cell_type": "code",
   "execution_count": 16,
   "metadata": {},
   "outputs": [
    {
     "name": "stdout",
     "output_type": "stream",
     "text": [
      "<class 'pandas.core.frame.DataFrame'>\n",
      "Index: 1189 entries, 719 to 720\n",
      "Data columns (total 7 columns):\n",
      " #   Column     Non-Null Count  Dtype         \n",
      "---  ------     --------------  -----         \n",
      " 0   timestamp  1189 non-null   datetime64[ns]\n",
      " 1   open       1189 non-null   float64       \n",
      " 2   high       1189 non-null   float64       \n",
      " 3   low        1189 non-null   float64       \n",
      " 4   close      1189 non-null   float64       \n",
      " 5   volume     1189 non-null   int64         \n",
      " 6   turnover   1189 non-null   float64       \n",
      "dtypes: datetime64[ns](1), float64(5), int64(1)\n",
      "memory usage: 74.3 KB\n"
     ]
    }
   ],
   "source": [
    "df.info()"
   ]
  },
  {
   "cell_type": "code",
   "execution_count": 17,
   "metadata": {},
   "outputs": [
    {
     "data": {
      "text/plain": [
       "Timedelta('1188 days 00:00:00')"
      ]
     },
     "execution_count": 17,
     "metadata": {},
     "output_type": "execute_result"
    }
   ],
   "source": [
    "df['timestamp'].max() - df['timestamp'].min()"
   ]
  },
  {
   "cell_type": "code",
   "execution_count": 18,
   "metadata": {},
   "outputs": [
    {
     "data": {
      "text/plain": [
       "Timestamp('2022-01-01 03:00:00')"
      ]
     },
     "execution_count": 18,
     "metadata": {},
     "output_type": "execute_result"
    }
   ],
   "source": [
    "df['timestamp'].min()"
   ]
  },
  {
   "cell_type": "code",
   "execution_count": 19,
   "metadata": {},
   "outputs": [
    {
     "data": {
      "text/plain": [
       "Timestamp('2025-04-03 03:00:00')"
      ]
     },
     "execution_count": 19,
     "metadata": {},
     "output_type": "execute_result"
    }
   ],
   "source": [
    "df['timestamp'].max()"
   ]
  },
  {
   "cell_type": "code",
   "execution_count": 22,
   "metadata": {},
   "outputs": [
    {
     "name": "stdout",
     "output_type": "stream",
     "text": [
      "Временной ряд непрерывен\n"
     ]
    }
   ],
   "source": [
    "def check_time_series(df=df, interval=5):\n",
    "    df['diff'] = df['timestamp'].diff()\n",
    "\n",
    "    # Проверяем, что все разницы равны 1 минуте\n",
    "    if (df['diff'].iloc[1:] != pd.Timedelta(minutes=interval)).any():\n",
    "        print(\"Временной ряд не является непрерывным\")\n",
    "    else:\n",
    "        print(\"Временной ряд непрерывен\")\n",
    "\n",
    "    df.drop(columns=['diff'], inplace=True)\n",
    "\n",
    "check_time_series(interval=1440)"
   ]
  },
  {
   "cell_type": "code",
   "execution_count": 24,
   "metadata": {},
   "outputs": [],
   "source": [
    "df.reset_index(drop=True, inplace=True)"
   ]
  },
  {
   "cell_type": "code",
   "execution_count": 25,
   "metadata": {},
   "outputs": [],
   "source": [
    "df.to_parquet('btcusd_1d_4years_2022.parquet')"
   ]
  },
  {
   "cell_type": "code",
   "execution_count": 26,
   "metadata": {},
   "outputs": [],
   "source": [
    "df2 = pd.read_parquet('btcusd_1d_4years_2022.parquet')"
   ]
  },
  {
   "cell_type": "code",
   "execution_count": 27,
   "metadata": {},
   "outputs": [
    {
     "data": {
      "text/html": [
       "<div>\n",
       "<style scoped>\n",
       "    .dataframe tbody tr th:only-of-type {\n",
       "        vertical-align: middle;\n",
       "    }\n",
       "\n",
       "    .dataframe tbody tr th {\n",
       "        vertical-align: top;\n",
       "    }\n",
       "\n",
       "    .dataframe thead th {\n",
       "        text-align: right;\n",
       "    }\n",
       "</style>\n",
       "<table border=\"1\" class=\"dataframe\">\n",
       "  <thead>\n",
       "    <tr style=\"text-align: right;\">\n",
       "      <th></th>\n",
       "      <th>timestamp</th>\n",
       "      <th>open</th>\n",
       "      <th>high</th>\n",
       "      <th>low</th>\n",
       "      <th>close</th>\n",
       "      <th>volume</th>\n",
       "      <th>turnover</th>\n",
       "    </tr>\n",
       "  </thead>\n",
       "  <tbody>\n",
       "    <tr>\n",
       "      <th>0</th>\n",
       "      <td>2022-01-01 03:00:00</td>\n",
       "      <td>46195.0</td>\n",
       "      <td>47915.0</td>\n",
       "      <td>46195.0</td>\n",
       "      <td>47724.0</td>\n",
       "      <td>955391852</td>\n",
       "      <td>20265.396710</td>\n",
       "    </tr>\n",
       "    <tr>\n",
       "      <th>1</th>\n",
       "      <td>2022-01-02 03:00:00</td>\n",
       "      <td>47724.0</td>\n",
       "      <td>47988.0</td>\n",
       "      <td>46656.0</td>\n",
       "      <td>47300.5</td>\n",
       "      <td>949091748</td>\n",
       "      <td>20087.631782</td>\n",
       "    </tr>\n",
       "    <tr>\n",
       "      <th>2</th>\n",
       "      <td>2022-01-03 03:00:00</td>\n",
       "      <td>47300.5</td>\n",
       "      <td>47614.5</td>\n",
       "      <td>45665.0</td>\n",
       "      <td>46436.0</td>\n",
       "      <td>1270992169</td>\n",
       "      <td>27240.417783</td>\n",
       "    </tr>\n",
       "    <tr>\n",
       "      <th>3</th>\n",
       "      <td>2022-01-04 03:00:00</td>\n",
       "      <td>46436.0</td>\n",
       "      <td>47500.0</td>\n",
       "      <td>45500.0</td>\n",
       "      <td>45829.5</td>\n",
       "      <td>1543295957</td>\n",
       "      <td>33235.051992</td>\n",
       "    </tr>\n",
       "    <tr>\n",
       "      <th>4</th>\n",
       "      <td>2022-01-05 03:00:00</td>\n",
       "      <td>45829.5</td>\n",
       "      <td>47058.0</td>\n",
       "      <td>42406.5</td>\n",
       "      <td>43409.0</td>\n",
       "      <td>2999423512</td>\n",
       "      <td>66521.756847</td>\n",
       "    </tr>\n",
       "    <tr>\n",
       "      <th>...</th>\n",
       "      <td>...</td>\n",
       "      <td>...</td>\n",
       "      <td>...</td>\n",
       "      <td>...</td>\n",
       "      <td>...</td>\n",
       "      <td>...</td>\n",
       "      <td>...</td>\n",
       "    </tr>\n",
       "    <tr>\n",
       "      <th>1184</th>\n",
       "      <td>2025-03-30 03:00:00</td>\n",
       "      <td>82581.5</td>\n",
       "      <td>83472.0</td>\n",
       "      <td>81427.1</td>\n",
       "      <td>82338.9</td>\n",
       "      <td>277774531</td>\n",
       "      <td>3360.382439</td>\n",
       "    </tr>\n",
       "    <tr>\n",
       "      <th>1185</th>\n",
       "      <td>2025-03-31 03:00:00</td>\n",
       "      <td>82338.9</td>\n",
       "      <td>83890.0</td>\n",
       "      <td>81234.0</td>\n",
       "      <td>82500.1</td>\n",
       "      <td>380843886</td>\n",
       "      <td>4615.113851</td>\n",
       "    </tr>\n",
       "    <tr>\n",
       "      <th>1186</th>\n",
       "      <td>2025-04-01 03:00:00</td>\n",
       "      <td>82500.1</td>\n",
       "      <td>85561.8</td>\n",
       "      <td>82376.7</td>\n",
       "      <td>85124.1</td>\n",
       "      <td>424790267</td>\n",
       "      <td>5051.613589</td>\n",
       "    </tr>\n",
       "    <tr>\n",
       "      <th>1187</th>\n",
       "      <td>2025-04-02 03:00:00</td>\n",
       "      <td>85124.1</td>\n",
       "      <td>88544.2</td>\n",
       "      <td>82252.2</td>\n",
       "      <td>82459.3</td>\n",
       "      <td>890695708</td>\n",
       "      <td>10410.198590</td>\n",
       "    </tr>\n",
       "    <tr>\n",
       "      <th>1188</th>\n",
       "      <td>2025-04-03 03:00:00</td>\n",
       "      <td>82459.3</td>\n",
       "      <td>83884.1</td>\n",
       "      <td>81026.7</td>\n",
       "      <td>81869.8</td>\n",
       "      <td>400943793</td>\n",
       "      <td>4855.317163</td>\n",
       "    </tr>\n",
       "  </tbody>\n",
       "</table>\n",
       "<p>1189 rows × 7 columns</p>\n",
       "</div>"
      ],
      "text/plain": [
       "               timestamp     open     high      low    close      volume  \\\n",
       "0    2022-01-01 03:00:00  46195.0  47915.0  46195.0  47724.0   955391852   \n",
       "1    2022-01-02 03:00:00  47724.0  47988.0  46656.0  47300.5   949091748   \n",
       "2    2022-01-03 03:00:00  47300.5  47614.5  45665.0  46436.0  1270992169   \n",
       "3    2022-01-04 03:00:00  46436.0  47500.0  45500.0  45829.5  1543295957   \n",
       "4    2022-01-05 03:00:00  45829.5  47058.0  42406.5  43409.0  2999423512   \n",
       "...                  ...      ...      ...      ...      ...         ...   \n",
       "1184 2025-03-30 03:00:00  82581.5  83472.0  81427.1  82338.9   277774531   \n",
       "1185 2025-03-31 03:00:00  82338.9  83890.0  81234.0  82500.1   380843886   \n",
       "1186 2025-04-01 03:00:00  82500.1  85561.8  82376.7  85124.1   424790267   \n",
       "1187 2025-04-02 03:00:00  85124.1  88544.2  82252.2  82459.3   890695708   \n",
       "1188 2025-04-03 03:00:00  82459.3  83884.1  81026.7  81869.8   400943793   \n",
       "\n",
       "          turnover  \n",
       "0     20265.396710  \n",
       "1     20087.631782  \n",
       "2     27240.417783  \n",
       "3     33235.051992  \n",
       "4     66521.756847  \n",
       "...            ...  \n",
       "1184   3360.382439  \n",
       "1185   4615.113851  \n",
       "1186   5051.613589  \n",
       "1187  10410.198590  \n",
       "1188   4855.317163  \n",
       "\n",
       "[1189 rows x 7 columns]"
      ]
     },
     "execution_count": 27,
     "metadata": {},
     "output_type": "execute_result"
    }
   ],
   "source": [
    "df2"
   ]
  },
  {
   "cell_type": "code",
   "execution_count": null,
   "metadata": {},
   "outputs": [],
   "source": []
  },
  {
   "cell_type": "code",
   "execution_count": null,
   "metadata": {},
   "outputs": [],
   "source": []
  },
  {
   "cell_type": "code",
   "execution_count": null,
   "metadata": {},
   "outputs": [],
   "source": []
  },
  {
   "cell_type": "code",
   "execution_count": null,
   "metadata": {},
   "outputs": [],
   "source": []
  },
  {
   "cell_type": "code",
   "execution_count": null,
   "metadata": {},
   "outputs": [],
   "source": []
  },
  {
   "cell_type": "code",
   "execution_count": null,
   "metadata": {},
   "outputs": [],
   "source": []
  },
  {
   "cell_type": "code",
   "execution_count": null,
   "metadata": {},
   "outputs": [],
   "source": []
  },
  {
   "cell_type": "code",
   "execution_count": null,
   "metadata": {},
   "outputs": [],
   "source": []
  },
  {
   "cell_type": "code",
   "execution_count": null,
   "metadata": {},
   "outputs": [],
   "source": []
  },
  {
   "cell_type": "code",
   "execution_count": null,
   "metadata": {},
   "outputs": [],
   "source": [
    "# base = int(dt.datetime(2022, 1, 1, 0, 00, 00, 000000).timestamp() * 1000)\n",
    "\n",
    "# dt.datetime.fromtimestamp(base / 1000).strftime('%Y-%m-%d %H:%M:%S')"
   ]
  },
  {
   "cell_type": "code",
   "execution_count": null,
   "metadata": {},
   "outputs": [],
   "source": [
    "# base + 60 * 1000\n",
    "# dt.datetime.fromtimestamp((base + 60 * 1000) / 1000).strftime('%Y-%m-%d %H:%M:%S')"
   ]
  },
  {
   "cell_type": "code",
   "execution_count": null,
   "metadata": {},
   "outputs": [],
   "source": [
    "# l = []\n",
    "\n",
    "# for i in range(base, base + (60 * 1000) * ((60*24)*(365*1)), (60 * 1000)*(12*60)):\n",
    "#     # l.append(i)\n",
    "#     print(dt.datetime.fromtimestamp(i / 1000).strftime('%Y-%m-%d %H:%M:%S'))\n",
    "#     print(dt.datetime.fromtimestamp(((i + (60*(60*1000))*12)-1) / 1000).strftime('%Y-%m-%d %H:%M:%S'))\n",
    "#     # print('')"
   ]
  }
 ],
 "metadata": {
  "kernelspec": {
   "display_name": "venv",
   "language": "python",
   "name": "python3"
  },
  "language_info": {
   "codemirror_mode": {
    "name": "ipython",
    "version": 3
   },
   "file_extension": ".py",
   "mimetype": "text/x-python",
   "name": "python",
   "nbconvert_exporter": "python",
   "pygments_lexer": "ipython3",
   "version": "3.11.9"
  }
 },
 "nbformat": 4,
 "nbformat_minor": 2
}
