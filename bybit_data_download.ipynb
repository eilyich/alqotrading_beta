{
 "cells": [
  {
   "cell_type": "code",
   "execution_count": 1,
   "metadata": {},
   "outputs": [],
   "source": [
    "from pybit.unified_trading import HTTP\n",
    "\n",
    "import dotenv\n",
    "import os\n",
    "\n",
    "from time import sleep, time\n",
    "import datetime as dt\n",
    "\n",
    "import pandas as pd\n",
    "\n",
    "import tqdm\n",
    "\n",
    "dotenv.load_dotenv('secrets.env')\n",
    "\n",
    "API_KEY = os.getenv('API')\n",
    "SECRET_KEY = os.getenv('SECRET')\n",
    "\n",
    "session = HTTP(\n",
    "    testnet=False,\n",
    "    api_key=API_KEY,\n",
    "    api_secret=SECRET_KEY,\n",
    ")"
   ]
  },
  {
   "cell_type": "code",
   "execution_count": 2,
   "metadata": {},
   "outputs": [
    {
     "name": "stderr",
     "output_type": "stream",
     "text": [
      "100%|██████████| 2920/2920 [12:24<00:00,  3.92it/s]\n"
     ]
    },
    {
     "name": "stdout",
     "output_type": "stream",
     "text": [
      "Done in 751 seconds.\n"
     ]
    }
   ],
   "source": [
    "\n",
    "def get_kline(interval, days_forward=365, start_year=2022, symbol='BTCUSD'):\n",
    "\n",
    "    t1 = time()\n",
    "\n",
    "    data = []\n",
    "    base = int(dt.datetime(start_year, 1, 1, 0, 00, 00, 000000).timestamp() * 1000)\n",
    "\n",
    "\n",
    "    for i in tqdm.tqdm(range(base, base + (60 * 1000) * ((60*24)*(days_forward)), (60 * 1000)*(12*60))):\n",
    "\n",
    "        returns = session.get_kline(\n",
    "                    symbol=symbol,\n",
    "                    interval=interval,\n",
    "                    start=i,\n",
    "                    end=(i + (60*(60*1000))*12)-1,\n",
    "                    limit=1000)\n",
    "        \n",
    "        data.extend(returns['result']['list'])\n",
    "\n",
    "        # sleep(1)\n",
    "\n",
    "    output_df = pd.DataFrame(data, columns=['timestamp', 'open', 'high', 'low', 'close', 'volume', 'turnover'])\n",
    "\n",
    "    for col in output_df.columns:\n",
    "        try:\n",
    "            output_df[col] = output_df[col].astype(int)\n",
    "        except ValueError:\n",
    "            output_df[col] = output_df[col].astype(float)\n",
    "\n",
    "    output_df['timestamp'] = output_df['timestamp'].apply(lambda x: dt.datetime.fromtimestamp(x / 1000).strftime('%Y-%m-%d %H:%M:%S'))\n",
    "    output_df['timestamp'] = pd.to_datetime(output_df['timestamp'])\n",
    "    output_df.sort_values(by='timestamp', inplace=True)\n",
    "\n",
    "    print(f'Done in {int(time() - t1)} seconds.')\n",
    "\n",
    "    return output_df\n",
    "\n",
    "df = get_kline(1, days_forward=(365*4))"
   ]
  },
  {
   "cell_type": "code",
   "execution_count": 3,
   "metadata": {},
   "outputs": [
    {
     "name": "stdout",
     "output_type": "stream",
     "text": [
      "<class 'pandas.core.frame.DataFrame'>\n",
      "Index: 1710506 entries, 719 to 1710000\n",
      "Data columns (total 7 columns):\n",
      " #   Column     Dtype         \n",
      "---  ------     -----         \n",
      " 0   timestamp  datetime64[ns]\n",
      " 1   open       float64       \n",
      " 2   high       float64       \n",
      " 3   low        float64       \n",
      " 4   close      float64       \n",
      " 5   volume     int64         \n",
      " 6   turnover   float64       \n",
      "dtypes: datetime64[ns](1), float64(5), int64(1)\n",
      "memory usage: 104.4 MB\n"
     ]
    }
   ],
   "source": [
    "df.info()"
   ]
  },
  {
   "cell_type": "code",
   "execution_count": null,
   "metadata": {},
   "outputs": [
    {
     "name": "stdout",
     "output_type": "stream",
     "text": [
      "Временной ряд непрерывен по минутам\n"
     ]
    }
   ],
   "source": [
    "def check_time_series(df=df, interval=1):\n",
    "    df['diff'] = df['timestamp'].diff()\n",
    "\n",
    "    # Проверяем, что все разницы равны 1 минуте\n",
    "    if (df['diff'].iloc[1:] != pd.Timedelta(minutes=interval)).any():\n",
    "        print(\"Временной ряд не является непрерывным по минутам\")\n",
    "    else:\n",
    "        print(\"Временной ряд непрерывен по минутам\")\n",
    "\n",
    "    df.drop(columns=['diff'], inplace=True)\n",
    "\n",
    "check_time_series()"
   ]
  },
  {
   "cell_type": "code",
   "execution_count": 11,
   "metadata": {},
   "outputs": [],
   "source": [
    "df.reset_index(drop=True, inplace=True)"
   ]
  },
  {
   "cell_type": "code",
   "execution_count": 13,
   "metadata": {},
   "outputs": [],
   "source": [
    "df.to_parquet('btcusd_1min_4years_2022.parquet')"
   ]
  },
  {
   "cell_type": "code",
   "execution_count": 14,
   "metadata": {},
   "outputs": [],
   "source": [
    "df2 = pd.read_parquet('btcusd_1min_4years_2022.parquet')"
   ]
  },
  {
   "cell_type": "code",
   "execution_count": 16,
   "metadata": {},
   "outputs": [
    {
     "data": {
      "text/html": [
       "<div>\n",
       "<style scoped>\n",
       "    .dataframe tbody tr th:only-of-type {\n",
       "        vertical-align: middle;\n",
       "    }\n",
       "\n",
       "    .dataframe tbody tr th {\n",
       "        vertical-align: top;\n",
       "    }\n",
       "\n",
       "    .dataframe thead th {\n",
       "        text-align: right;\n",
       "    }\n",
       "</style>\n",
       "<table border=\"1\" class=\"dataframe\">\n",
       "  <thead>\n",
       "    <tr style=\"text-align: right;\">\n",
       "      <th></th>\n",
       "      <th>timestamp</th>\n",
       "      <th>open</th>\n",
       "      <th>high</th>\n",
       "      <th>low</th>\n",
       "      <th>close</th>\n",
       "      <th>volume</th>\n",
       "      <th>turnover</th>\n",
       "    </tr>\n",
       "  </thead>\n",
       "  <tbody>\n",
       "    <tr>\n",
       "      <th>0</th>\n",
       "      <td>2022-01-01 00:00:00</td>\n",
       "      <td>45849.5</td>\n",
       "      <td>45904.0</td>\n",
       "      <td>45849.5</td>\n",
       "      <td>45863.5</td>\n",
       "      <td>2513626</td>\n",
       "      <td>54.767864</td>\n",
       "    </tr>\n",
       "    <tr>\n",
       "      <th>1</th>\n",
       "      <td>2022-01-01 00:01:00</td>\n",
       "      <td>45863.5</td>\n",
       "      <td>45878.5</td>\n",
       "      <td>45840.5</td>\n",
       "      <td>45878.5</td>\n",
       "      <td>1389570</td>\n",
       "      <td>30.301774</td>\n",
       "    </tr>\n",
       "    <tr>\n",
       "      <th>2</th>\n",
       "      <td>2022-01-01 00:02:00</td>\n",
       "      <td>45878.5</td>\n",
       "      <td>45936.5</td>\n",
       "      <td>45878.0</td>\n",
       "      <td>45936.0</td>\n",
       "      <td>1547563</td>\n",
       "      <td>33.708247</td>\n",
       "    </tr>\n",
       "    <tr>\n",
       "      <th>3</th>\n",
       "      <td>2022-01-01 00:03:00</td>\n",
       "      <td>45936.0</td>\n",
       "      <td>46018.0</td>\n",
       "      <td>45936.0</td>\n",
       "      <td>46005.5</td>\n",
       "      <td>3086633</td>\n",
       "      <td>67.139093</td>\n",
       "    </tr>\n",
       "    <tr>\n",
       "      <th>4</th>\n",
       "      <td>2022-01-01 00:04:00</td>\n",
       "      <td>46005.5</td>\n",
       "      <td>46044.0</td>\n",
       "      <td>46005.0</td>\n",
       "      <td>46044.0</td>\n",
       "      <td>708700</td>\n",
       "      <td>15.402746</td>\n",
       "    </tr>\n",
       "    <tr>\n",
       "      <th>...</th>\n",
       "      <td>...</td>\n",
       "      <td>...</td>\n",
       "      <td>...</td>\n",
       "      <td>...</td>\n",
       "      <td>...</td>\n",
       "      <td>...</td>\n",
       "      <td>...</td>\n",
       "    </tr>\n",
       "    <tr>\n",
       "      <th>1710501</th>\n",
       "      <td>2025-04-02 20:21:00</td>\n",
       "      <td>87090.0</td>\n",
       "      <td>87101.9</td>\n",
       "      <td>87054.1</td>\n",
       "      <td>87054.1</td>\n",
       "      <td>32979</td>\n",
       "      <td>0.378768</td>\n",
       "    </tr>\n",
       "    <tr>\n",
       "      <th>1710502</th>\n",
       "      <td>2025-04-02 20:22:00</td>\n",
       "      <td>87054.1</td>\n",
       "      <td>87054.1</td>\n",
       "      <td>86867.9</td>\n",
       "      <td>86899.5</td>\n",
       "      <td>1482601</td>\n",
       "      <td>17.057325</td>\n",
       "    </tr>\n",
       "    <tr>\n",
       "      <th>1710503</th>\n",
       "      <td>2025-04-02 20:23:00</td>\n",
       "      <td>86899.5</td>\n",
       "      <td>86957.9</td>\n",
       "      <td>86876.1</td>\n",
       "      <td>86926.7</td>\n",
       "      <td>352114</td>\n",
       "      <td>4.051255</td>\n",
       "    </tr>\n",
       "    <tr>\n",
       "      <th>1710504</th>\n",
       "      <td>2025-04-02 20:24:00</td>\n",
       "      <td>86926.7</td>\n",
       "      <td>86958.4</td>\n",
       "      <td>86915.7</td>\n",
       "      <td>86953.2</td>\n",
       "      <td>117997</td>\n",
       "      <td>1.357082</td>\n",
       "    </tr>\n",
       "    <tr>\n",
       "      <th>1710505</th>\n",
       "      <td>2025-04-02 20:25:00</td>\n",
       "      <td>86953.2</td>\n",
       "      <td>86956.0</td>\n",
       "      <td>86900.3</td>\n",
       "      <td>86904.0</td>\n",
       "      <td>1068593</td>\n",
       "      <td>12.294281</td>\n",
       "    </tr>\n",
       "  </tbody>\n",
       "</table>\n",
       "<p>1710506 rows × 7 columns</p>\n",
       "</div>"
      ],
      "text/plain": [
       "                  timestamp     open     high      low    close   volume  \\\n",
       "0       2022-01-01 00:00:00  45849.5  45904.0  45849.5  45863.5  2513626   \n",
       "1       2022-01-01 00:01:00  45863.5  45878.5  45840.5  45878.5  1389570   \n",
       "2       2022-01-01 00:02:00  45878.5  45936.5  45878.0  45936.0  1547563   \n",
       "3       2022-01-01 00:03:00  45936.0  46018.0  45936.0  46005.5  3086633   \n",
       "4       2022-01-01 00:04:00  46005.5  46044.0  46005.0  46044.0   708700   \n",
       "...                     ...      ...      ...      ...      ...      ...   \n",
       "1710501 2025-04-02 20:21:00  87090.0  87101.9  87054.1  87054.1    32979   \n",
       "1710502 2025-04-02 20:22:00  87054.1  87054.1  86867.9  86899.5  1482601   \n",
       "1710503 2025-04-02 20:23:00  86899.5  86957.9  86876.1  86926.7   352114   \n",
       "1710504 2025-04-02 20:24:00  86926.7  86958.4  86915.7  86953.2   117997   \n",
       "1710505 2025-04-02 20:25:00  86953.2  86956.0  86900.3  86904.0  1068593   \n",
       "\n",
       "          turnover  \n",
       "0        54.767864  \n",
       "1        30.301774  \n",
       "2        33.708247  \n",
       "3        67.139093  \n",
       "4        15.402746  \n",
       "...            ...  \n",
       "1710501   0.378768  \n",
       "1710502  17.057325  \n",
       "1710503   4.051255  \n",
       "1710504   1.357082  \n",
       "1710505  12.294281  \n",
       "\n",
       "[1710506 rows x 7 columns]"
      ]
     },
     "execution_count": 16,
     "metadata": {},
     "output_type": "execute_result"
    }
   ],
   "source": [
    "df2"
   ]
  },
  {
   "cell_type": "code",
   "execution_count": null,
   "metadata": {},
   "outputs": [],
   "source": []
  },
  {
   "cell_type": "code",
   "execution_count": null,
   "metadata": {},
   "outputs": [],
   "source": []
  },
  {
   "cell_type": "code",
   "execution_count": null,
   "metadata": {},
   "outputs": [],
   "source": []
  },
  {
   "cell_type": "code",
   "execution_count": null,
   "metadata": {},
   "outputs": [],
   "source": []
  },
  {
   "cell_type": "code",
   "execution_count": null,
   "metadata": {},
   "outputs": [],
   "source": []
  },
  {
   "cell_type": "code",
   "execution_count": null,
   "metadata": {},
   "outputs": [],
   "source": []
  },
  {
   "cell_type": "code",
   "execution_count": null,
   "metadata": {},
   "outputs": [],
   "source": []
  },
  {
   "cell_type": "code",
   "execution_count": null,
   "metadata": {},
   "outputs": [],
   "source": []
  },
  {
   "cell_type": "code",
   "execution_count": null,
   "metadata": {},
   "outputs": [],
   "source": []
  },
  {
   "cell_type": "code",
   "execution_count": 5,
   "metadata": {},
   "outputs": [],
   "source": [
    "# base = int(dt.datetime(2022, 1, 1, 0, 00, 00, 000000).timestamp() * 1000)\n",
    "\n",
    "# dt.datetime.fromtimestamp(base / 1000).strftime('%Y-%m-%d %H:%M:%S')"
   ]
  },
  {
   "cell_type": "code",
   "execution_count": 6,
   "metadata": {},
   "outputs": [],
   "source": [
    "# base + 60 * 1000\n",
    "# dt.datetime.fromtimestamp((base + 60 * 1000) / 1000).strftime('%Y-%m-%d %H:%M:%S')"
   ]
  },
  {
   "cell_type": "code",
   "execution_count": 7,
   "metadata": {},
   "outputs": [],
   "source": [
    "# l = []\n",
    "\n",
    "# for i in range(base, base + (60 * 1000) * ((60*24)*(365*1)), (60 * 1000)*(12*60)):\n",
    "#     # l.append(i)\n",
    "#     print(dt.datetime.fromtimestamp(i / 1000).strftime('%Y-%m-%d %H:%M:%S'))\n",
    "#     print(dt.datetime.fromtimestamp(((i + (60*(60*1000))*12)-1) / 1000).strftime('%Y-%m-%d %H:%M:%S'))\n",
    "#     # print('')"
   ]
  }
 ],
 "metadata": {
  "kernelspec": {
   "display_name": "venv",
   "language": "python",
   "name": "python3"
  },
  "language_info": {
   "codemirror_mode": {
    "name": "ipython",
    "version": 3
   },
   "file_extension": ".py",
   "mimetype": "text/x-python",
   "name": "python",
   "nbconvert_exporter": "python",
   "pygments_lexer": "ipython3",
   "version": "3.11.9"
  }
 },
 "nbformat": 4,
 "nbformat_minor": 2
}
