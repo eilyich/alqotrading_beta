{
 "cells": [
  {
   "cell_type": "code",
   "execution_count": 1,
   "metadata": {},
   "outputs": [],
   "source": [
    "from pybit.unified_trading import HTTP\n",
    "\n",
    "import dotenv\n",
    "import os\n",
    "\n",
    "from time import sleep, time\n",
    "import datetime as dt\n",
    "\n",
    "import pandas as pd\n",
    "\n",
    "import tqdm\n",
    "\n",
    "# dotenv.load_dotenv('secrets.env')\n",
    "\n",
    "# API_KEY = os.getenv('API')\n",
    "# SECRET_KEY = os.getenv('SECRET')\n",
    "\n",
    "# session = HTTP(\n",
    "#     testnet=False,\n",
    "#     api_key=API_KEY,\n",
    "#     api_secret=SECRET_KEY,\n",
    "# )"
   ]
  },
  {
   "cell_type": "code",
   "execution_count": null,
   "metadata": {},
   "outputs": [],
   "source": [
    "base = int(dt.datetime(2022, 1, 1, 0, 00, 00, 000000).timestamp() * 1000)\n",
    "dt.datetime.fromtimestamp(base / 1000).strftime('%Y-%m-%d %H:%M:%S')"
   ]
  },
  {
   "cell_type": "code",
   "execution_count": null,
   "metadata": {},
   "outputs": [],
   "source": [
    "60 * 24"
   ]
  },
  {
   "cell_type": "code",
   "execution_count": null,
   "metadata": {},
   "outputs": [],
   "source": [
    "def get_kline(interval, days_forward=365, start_year=2022, symbol='BTCUSD'):\n",
    "    t1 = time()\n",
    "\n",
    "    data = []\n",
    "    # Начало отсчёта: 1 января start_year\n",
    "    base = int(dt.datetime(start_year, 1, 1, 0, 0, 0, 0).timestamp() * 1000)\n",
    "\n",
    "    # Определяем количество \"кадров\" (баров), которое безопасно получать за один запрос.\n",
    "    safe_frames = 720  # для 1-минутного интервала – 720 баров (12 часов)\n",
    "    # Вычисляем длительность одного кадра (в мс) исходя из переданного интервала (в минутах)\n",
    "    frame_duration_ms = interval * 60 * 1000\n",
    "    # Вычисляем общее окно запроса в мс, пропорционально интервалу\n",
    "    window_ms = frame_duration_ms * safe_frames\n",
    "\n",
    "    # Общий период выборки в миллисекундах: days_forward дней\n",
    "    total_ms = (60 * 1000) * (60 * 24 * days_forward)\n",
    "\n",
    "    if interval == 1440:\n",
    "        interval = 'D'\n",
    "\n",
    "    for i in tqdm.tqdm(range(base, base + total_ms, window_ms)):\n",
    "        returns = session.get_kline(\n",
    "            symbol=symbol,\n",
    "            interval=interval,\n",
    "            start=i,\n",
    "            end=(i + window_ms) - 1,  # конец окна запроса\n",
    "            limit=1000\n",
    "        )\n",
    "        \n",
    "        data.extend(returns['result']['list'])\n",
    "\n",
    "        # sleep(1)  # можно включить задержку, если API требует ограничения по запросам\n",
    "\n",
    "    output_df = pd.DataFrame(data, columns=['timestamp', 'open', 'high', 'low', 'close', 'volume', 'turnover'])\n",
    "\n",
    "    # Преобразуем столбцы в числовой формат\n",
    "    for col in output_df.columns:\n",
    "        try:\n",
    "            output_df[col] = output_df[col].astype(int)\n",
    "        except ValueError:\n",
    "            output_df[col] = output_df[col].astype(float)\n",
    "\n",
    "    # Преобразуем метки времени в удобный формат\n",
    "    output_df['timestamp'] = output_df['timestamp'].apply(\n",
    "        lambda x: dt.datetime.fromtimestamp(x / 1000).strftime('%Y-%m-%d %H:%M:%S')\n",
    "    )\n",
    "    output_df['timestamp'] = pd.to_datetime(output_df['timestamp'])\n",
    "    output_df.sort_values(by='timestamp', inplace=True)\n",
    "\n",
    "    print(f'Done in {int(time() - t1)} seconds.')\n",
    "    return output_df\n",
    "\n",
    "\n",
    "# df = get_kline(1)\n",
    "df = get_kline(interval=1440, days_forward=(365*4))\n"
   ]
  },
  {
   "cell_type": "code",
   "execution_count": null,
   "metadata": {},
   "outputs": [],
   "source": [
    "df.info()"
   ]
  },
  {
   "cell_type": "code",
   "execution_count": null,
   "metadata": {},
   "outputs": [],
   "source": [
    "df['timestamp'].max() - df['timestamp'].min()"
   ]
  },
  {
   "cell_type": "code",
   "execution_count": null,
   "metadata": {},
   "outputs": [],
   "source": [
    "df['timestamp'].min()"
   ]
  },
  {
   "cell_type": "code",
   "execution_count": null,
   "metadata": {},
   "outputs": [],
   "source": [
    "df['timestamp'].max()"
   ]
  },
  {
   "cell_type": "code",
   "execution_count": null,
   "metadata": {},
   "outputs": [],
   "source": [
    "def check_time_series(df=df, interval=5):\n",
    "    df['diff'] = df['timestamp'].diff()\n",
    "\n",
    "    # Проверяем, что все разницы равны 1 минуте\n",
    "    if (df['diff'].iloc[1:] != pd.Timedelta(minutes=interval)).any():\n",
    "        print(\"Временной ряд не является непрерывным\")\n",
    "    else:\n",
    "        print(\"Временной ряд непрерывен\")\n",
    "\n",
    "    df.drop(columns=['diff'], inplace=True)\n",
    "\n",
    "check_time_series(interval=1440)"
   ]
  },
  {
   "cell_type": "code",
   "execution_count": null,
   "metadata": {},
   "outputs": [],
   "source": [
    "# df.reset_index(drop=True, inplace=True)"
   ]
  },
  {
   "cell_type": "code",
   "execution_count": null,
   "metadata": {},
   "outputs": [],
   "source": [
    "# df.to_parquet('btcusd_1d_4years_2022.parquet')"
   ]
  },
  {
   "cell_type": "markdown",
   "metadata": {},
   "source": [
    "---"
   ]
  },
  {
   "cell_type": "code",
   "execution_count": 34,
   "metadata": {},
   "outputs": [],
   "source": [
    "df_min = pd.read_parquet('btcusd_1min_4years_2022.parquet')"
   ]
  },
  {
   "cell_type": "code",
   "execution_count": 35,
   "metadata": {},
   "outputs": [],
   "source": [
    "df_min_filtered = df_min[df_min['timestamp'] < '2023-01-01 00:00:00']"
   ]
  },
  {
   "cell_type": "code",
   "execution_count": 36,
   "metadata": {},
   "outputs": [],
   "source": [
    "df_h = pd.read_parquet('btcusd_1h_4years_2022.parquet')"
   ]
  },
  {
   "cell_type": "code",
   "execution_count": 37,
   "metadata": {},
   "outputs": [],
   "source": [
    "df_h_filtered = df_h[df_h['timestamp'] < '2023-01-01 00:00:00']"
   ]
  },
  {
   "cell_type": "code",
   "execution_count": 38,
   "metadata": {},
   "outputs": [
    {
     "name": "stderr",
     "output_type": "stream",
     "text": [
      "C:\\Users\\deari\\AppData\\Local\\Temp\\ipykernel_3916\\3106731346.py:1: SettingWithCopyWarning: \n",
      "A value is trying to be set on a copy of a slice from a DataFrame.\n",
      "Try using .loc[row_indexer,col_indexer] = value instead\n",
      "\n",
      "See the caveats in the documentation: https://pandas.pydata.org/pandas-docs/stable/user_guide/indexing.html#returning-a-view-versus-a-copy\n",
      "  df_min_filtered['dt_hour'] = df_min_filtered['timestamp'].dt.hour\n"
     ]
    }
   ],
   "source": [
    "df_min_filtered['dt_hour'] = df_min_filtered['timestamp'].dt.hour"
   ]
  },
  {
   "cell_type": "code",
   "execution_count": 39,
   "metadata": {},
   "outputs": [],
   "source": [
    "df_min_groupped = df_min_filtered.groupby('dt_hour').agg(\n",
    "        {'open': 'first',\n",
    "         'close': 'last',\n",
    "         'high': 'max',\n",
    "         'low': 'min',\n",
    "         'volume': 'sum',\n",
    "         'timestamp': 'first'}\n",
    "    ).reset_index(drop=True)"
   ]
  },
  {
   "cell_type": "code",
   "execution_count": 40,
   "metadata": {},
   "outputs": [
    {
     "data": {
      "text/html": [
       "<div>\n",
       "<style scoped>\n",
       "    .dataframe tbody tr th:only-of-type {\n",
       "        vertical-align: middle;\n",
       "    }\n",
       "\n",
       "    .dataframe tbody tr th {\n",
       "        vertical-align: top;\n",
       "    }\n",
       "\n",
       "    .dataframe thead th {\n",
       "        text-align: right;\n",
       "    }\n",
       "</style>\n",
       "<table border=\"1\" class=\"dataframe\">\n",
       "  <thead>\n",
       "    <tr style=\"text-align: right;\">\n",
       "      <th></th>\n",
       "      <th>timestamp_h</th>\n",
       "      <th>open_h</th>\n",
       "      <th>high_h</th>\n",
       "      <th>low_h</th>\n",
       "      <th>close_h</th>\n",
       "      <th>volume_h</th>\n",
       "      <th>turnover</th>\n",
       "      <th>open_m</th>\n",
       "      <th>close_m</th>\n",
       "      <th>high_m</th>\n",
       "      <th>low_m</th>\n",
       "      <th>volume_m</th>\n",
       "      <th>timestamp_m</th>\n",
       "    </tr>\n",
       "  </thead>\n",
       "  <tbody>\n",
       "    <tr>\n",
       "      <th>0</th>\n",
       "      <td>2022-01-01 00:00:00</td>\n",
       "      <td>45849.5</td>\n",
       "      <td>46489.0</td>\n",
       "      <td>45755.0</td>\n",
       "      <td>46299.5</td>\n",
       "      <td>84360941</td>\n",
       "      <td>1828.673287</td>\n",
       "      <td>45849.5</td>\n",
       "      <td>16575.0</td>\n",
       "      <td>48141.0</td>\n",
       "      <td>15437.0</td>\n",
       "      <td>1.441807e+10</td>\n",
       "      <td>2022-01-01 00:00:00</td>\n",
       "    </tr>\n",
       "    <tr>\n",
       "      <th>1</th>\n",
       "      <td>2022-01-01 01:00:00</td>\n",
       "      <td>46299.5</td>\n",
       "      <td>46544.5</td>\n",
       "      <td>46241.0</td>\n",
       "      <td>46293.0</td>\n",
       "      <td>57502020</td>\n",
       "      <td>1239.454159</td>\n",
       "      <td>46299.5</td>\n",
       "      <td>16583.0</td>\n",
       "      <td>47755.0</td>\n",
       "      <td>15450.0</td>\n",
       "      <td>1.631759e+10</td>\n",
       "      <td>2022-01-01 01:00:00</td>\n",
       "    </tr>\n",
       "    <tr>\n",
       "      <th>2</th>\n",
       "      <td>2022-01-01 02:00:00</td>\n",
       "      <td>46293.0</td>\n",
       "      <td>46481.5</td>\n",
       "      <td>46136.0</td>\n",
       "      <td>46195.0</td>\n",
       "      <td>26773919</td>\n",
       "      <td>577.847611</td>\n",
       "      <td>46293.0</td>\n",
       "      <td>16606.0</td>\n",
       "      <td>47827.0</td>\n",
       "      <td>15512.0</td>\n",
       "      <td>1.452290e+10</td>\n",
       "      <td>2022-01-01 02:00:00</td>\n",
       "    </tr>\n",
       "    <tr>\n",
       "      <th>3</th>\n",
       "      <td>2022-01-01 03:00:00</td>\n",
       "      <td>46195.0</td>\n",
       "      <td>46723.0</td>\n",
       "      <td>46195.0</td>\n",
       "      <td>46640.5</td>\n",
       "      <td>56585852</td>\n",
       "      <td>1216.558051</td>\n",
       "      <td>46195.0</td>\n",
       "      <td>16585.0</td>\n",
       "      <td>47745.0</td>\n",
       "      <td>15681.5</td>\n",
       "      <td>1.727638e+10</td>\n",
       "      <td>2022-01-01 03:00:00</td>\n",
       "    </tr>\n",
       "    <tr>\n",
       "      <th>4</th>\n",
       "      <td>2022-01-01 04:00:00</td>\n",
       "      <td>46640.5</td>\n",
       "      <td>46934.0</td>\n",
       "      <td>46584.5</td>\n",
       "      <td>46779.5</td>\n",
       "      <td>38023186</td>\n",
       "      <td>812.870805</td>\n",
       "      <td>46640.5</td>\n",
       "      <td>16563.5</td>\n",
       "      <td>47648.0</td>\n",
       "      <td>15769.0</td>\n",
       "      <td>1.426769e+10</td>\n",
       "      <td>2022-01-01 04:00:00</td>\n",
       "    </tr>\n",
       "  </tbody>\n",
       "</table>\n",
       "</div>"
      ],
      "text/plain": [
       "          timestamp_h   open_h   high_h    low_h  close_h  volume_h  \\\n",
       "0 2022-01-01 00:00:00  45849.5  46489.0  45755.0  46299.5  84360941   \n",
       "1 2022-01-01 01:00:00  46299.5  46544.5  46241.0  46293.0  57502020   \n",
       "2 2022-01-01 02:00:00  46293.0  46481.5  46136.0  46195.0  26773919   \n",
       "3 2022-01-01 03:00:00  46195.0  46723.0  46195.0  46640.5  56585852   \n",
       "4 2022-01-01 04:00:00  46640.5  46934.0  46584.5  46779.5  38023186   \n",
       "\n",
       "      turnover   open_m  close_m   high_m    low_m      volume_m  \\\n",
       "0  1828.673287  45849.5  16575.0  48141.0  15437.0  1.441807e+10   \n",
       "1  1239.454159  46299.5  16583.0  47755.0  15450.0  1.631759e+10   \n",
       "2   577.847611  46293.0  16606.0  47827.0  15512.0  1.452290e+10   \n",
       "3  1216.558051  46195.0  16585.0  47745.0  15681.5  1.727638e+10   \n",
       "4   812.870805  46640.5  16563.5  47648.0  15769.0  1.426769e+10   \n",
       "\n",
       "          timestamp_m  \n",
       "0 2022-01-01 00:00:00  \n",
       "1 2022-01-01 01:00:00  \n",
       "2 2022-01-01 02:00:00  \n",
       "3 2022-01-01 03:00:00  \n",
       "4 2022-01-01 04:00:00  "
      ]
     },
     "execution_count": 40,
     "metadata": {},
     "output_type": "execute_result"
    }
   ],
   "source": [
    "combine = df_h_filtered.join(df_min_groupped, lsuffix='_h', rsuffix='_m')\n",
    "combine.head()"
   ]
  },
  {
   "cell_type": "code",
   "execution_count": 41,
   "metadata": {},
   "outputs": [
    {
     "name": "stdout",
     "output_type": "stream",
     "text": [
      "open: 0.0\n",
      "close: 729567.5\n",
      "high: -16112.0\n",
      "low: 745359.0\n",
      "timestamp: 0 days 00:00:00\n",
      "volume: -407574396779.0\n"
     ]
    }
   ],
   "source": [
    "# проверка, что в агрегации минутных графиков равны часовым\n",
    "for i in ['open', 'close', 'high', 'low', 'timestamp', 'volume']:\n",
    "    print(f\"{i}: {(combine[i+'_h'] - combine[i+'_m']).sum()}\")"
   ]
  },
  {
   "cell_type": "code",
   "execution_count": null,
   "metadata": {},
   "outputs": [],
   "source": []
  },
  {
   "cell_type": "code",
   "execution_count": null,
   "metadata": {},
   "outputs": [],
   "source": []
  },
  {
   "cell_type": "code",
   "execution_count": null,
   "metadata": {},
   "outputs": [],
   "source": [
    "# base = int(dt.datetime(2022, 1, 1, 0, 00, 00, 000000).timestamp() * 1000)\n",
    "\n",
    "# dt.datetime.fromtimestamp(base / 1000).strftime('%Y-%m-%d %H:%M:%S')"
   ]
  },
  {
   "cell_type": "code",
   "execution_count": null,
   "metadata": {},
   "outputs": [],
   "source": [
    "# base + 60 * 1000\n",
    "# dt.datetime.fromtimestamp((base + 60 * 1000) / 1000).strftime('%Y-%m-%d %H:%M:%S')"
   ]
  },
  {
   "cell_type": "code",
   "execution_count": null,
   "metadata": {},
   "outputs": [],
   "source": [
    "# l = []\n",
    "\n",
    "# for i in range(base, base + (60 * 1000) * ((60*24)*(365*1)), (60 * 1000)*(12*60)):\n",
    "#     # l.append(i)\n",
    "#     print(dt.datetime.fromtimestamp(i / 1000).strftime('%Y-%m-%d %H:%M:%S'))\n",
    "#     print(dt.datetime.fromtimestamp(((i + (60*(60*1000))*12)-1) / 1000).strftime('%Y-%m-%d %H:%M:%S'))\n",
    "#     # print('')"
   ]
  }
 ],
 "metadata": {
  "kernelspec": {
   "display_name": "venv",
   "language": "python",
   "name": "python3"
  },
  "language_info": {
   "codemirror_mode": {
    "name": "ipython",
    "version": 3
   },
   "file_extension": ".py",
   "mimetype": "text/x-python",
   "name": "python",
   "nbconvert_exporter": "python",
   "pygments_lexer": "ipython3",
   "version": "3.11.9"
  }
 },
 "nbformat": 4,
 "nbformat_minor": 2
}
